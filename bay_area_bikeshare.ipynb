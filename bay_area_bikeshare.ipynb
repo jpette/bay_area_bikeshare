{
 "cells": [
  {
   "cell_type": "code",
   "execution_count": 1,
   "metadata": {
    "collapsed": true
   },
   "outputs": [],
   "source": [
    "import pandas as pd\n",
    "%matplotlib inline"
   ]
  },
  {
   "cell_type": "code",
   "execution_count": 26,
   "metadata": {},
   "outputs": [
    {
     "name": "stdout",
     "output_type": "stream",
     "text": [
      "Morning commuter trips - start time between 7:00 and 8:59:\n",
      "Waiting on bqjob_r787c93d00095e98e_00000163beffd84c_1 ... (1s) Current status: DONE   \n",
      "+----------------+\n",
      "| Commuter_Trips |\n",
      "+----------------+\n",
      "|         199995 |\n",
      "+----------------+\n"
     ]
    }
   ],
   "source": [
    "print(\"Morning commuter trips - start time between 7:00 and 8:59:\")\n",
    "! bq query --use_legacy_sql=false 'SELECT count(EXTRACT(HOUR FROM start_date)) AS Commuter_Trips FROM `bigquery-public-data.san_francisco.bikeshare_trips` WHERE EXTRACT(HOUR FROM start_date) > 6 AND EXTRACT(HOUR FROM start_date) < 9'"
   ]
  },
  {
   "cell_type": "code",
   "execution_count": 27,
   "metadata": {},
   "outputs": [
    {
     "name": "stdout",
     "output_type": "stream",
     "text": [
      "Afternoon commuter trips - start time between 16:00 and 18:59:\n",
      "Waiting on bqjob_r19b37d6f446b2f5e_00000163bf00bf80_1 ... (0s) Current status: DONE   \n",
      "+----------------+\n",
      "| Commuter_Trips |\n",
      "+----------------+\n",
      "|         299626 |\n",
      "+----------------+\n"
     ]
    }
   ],
   "source": [
    "print(\"Afternoon commuter trips - start time between 16:00 and 18:59:\")\n",
    "! bq query --use_legacy_sql=false 'SELECT count(EXTRACT(HOUR FROM start_date)) AS Commuter_Trips FROM `bigquery-public-data.san_francisco.bikeshare_trips` WHERE EXTRACT(HOUR FROM start_date) > 15 AND EXTRACT(HOUR FROM start_date) < 19'"
   ]
  },
  {
   "cell_type": "code",
   "execution_count": 28,
   "metadata": {},
   "outputs": [
    {
     "name": "stdout",
     "output_type": "stream",
     "text": [
      "Morning trips < 30 minutes:\n",
      "Waiting on bqjob_r224c18e941dbfd52_00000163bf01c52f_1 ... (1s) Current status: DONE   \n",
      "+---------------+\n",
      "| Morning_Trips |\n",
      "+---------------+\n",
      "|        197646 |\n",
      "+---------------+\n",
      "Afternoon trips < 30 minutes:\n",
      "Waiting on bqjob_r4b4714c7c3e8746b_00000163bf01d8b2_1 ... (1s) Current status: DONE   \n",
      "+-----------------+\n",
      "| Afternoon_Trips |\n",
      "+-----------------+\n",
      "|          289743 |\n",
      "+-----------------+\n"
     ]
    }
   ],
   "source": [
    "print(\"Morning trips < 30 minutes:\")\n",
    "! bq query --use_legacy_sql=false 'SELECT COUNT(duration_sec) AS Morning_Trips FROM `bigquery-public-data.san_francisco.bikeshare_trips` WHERE EXTRACT(HOUR FROM start_date) < 9 AND EXTRACT(HOUR FROM start_date) > 6 AND duration_sec <= 1800'\n",
    "print(\"Afternoon trips < 30 minutes:\")\n",
    "! bq query --use_legacy_sql=false 'SELECT COUNT(duration_sec) AS Afternoon_Trips FROM `bigquery-public-data.san_francisco.bikeshare_trips` WHERE EXTRACT(HOUR FROM start_date) < 19 AND EXTRACT(HOUR FROM start_date) > 15 AND duration_sec <= 1800'"
   ]
  },
  {
   "cell_type": "code",
   "execution_count": 53,
   "metadata": {},
   "outputs": [
    {
     "name": "stdout",
     "output_type": "stream",
     "text": [
      "Morning commuter trips - start time between 7:00 and 8:59:\n",
      "Waiting on bqjob_r509acd59cd109ea1_00000163bf2514ae_1 ... (0s) Current status: DONE   \n",
      "+-----------------+----------------+\n",
      "| subscriber_type | Commuter_Trips |\n",
      "+-----------------+----------------+\n",
      "| Subscriber      |         192117 |\n",
      "| Customer        |           7878 |\n",
      "+-----------------+----------------+\n",
      "Afternoon commuter trips - start time between 16:00 and 18:59:\n",
      "Waiting on bqjob_r579604f1136da4d2_00000163bf2521e0_1 ... (0s) Current status: DONE   \n",
      "+-----------------+----------------+\n",
      "| subscriber_type | Commuter_Trips |\n",
      "+-----------------+----------------+\n",
      "| Customer        |          32862 |\n",
      "| Subscriber      |         266764 |\n",
      "+-----------------+----------------+\n"
     ]
    }
   ],
   "source": [
    "print(\"Morning commuter trips - start time between 7:00 and 8:59:\")\n",
    "! bq query --use_legacy_sql=false 'SELECT subscriber_type, count(EXTRACT(HOUR FROM start_date)) AS Commuter_Trips FROM `bigquery-public-data.san_francisco.bikeshare_trips` WHERE EXTRACT(HOUR FROM start_date) > 6 AND EXTRACT(HOUR FROM start_date) < 9 GROUP BY subscriber_type'\n",
    "\n",
    "print(\"Afternoon commuter trips - start time between 16:00 and 18:59:\")\n",
    "! bq query --use_legacy_sql=false 'SELECT subscriber_type, count(EXTRACT(HOUR FROM start_date)) AS Commuter_Trips FROM `bigquery-public-data.san_francisco.bikeshare_trips` WHERE EXTRACT(HOUR FROM start_date) > 15 AND EXTRACT(HOUR FROM start_date) < 19 GROUP BY subscriber_type'"
   ]
  },
  {
   "cell_type": "code",
   "execution_count": 38,
   "metadata": {
    "scrolled": true
   },
   "outputs": [
    {
     "name": "stdout",
     "output_type": "stream",
     "text": [
      "Most popular starting points for morning and afternoon commuter trips:\n",
      "Waiting on bqjob_r12b81a3d7df6b6f5_00000163bf0af132_1 ... (0s) Current status: DONE   "
     ]
    }
   ],
   "source": [
    "print(\"Most popular starting points for morning and afternoon commuter trips:\")\n",
    "! bq query --use_legacy_sql=false --format=csv 'SELECT COUNT(start_station_id) AS Morning_Trips, start_station_name FROM `bigquery-public-data.san_francisco.bikeshare_trips` WHERE EXTRACT(HOUR FROM start_date) < 9 AND EXTRACT(HOUR FROM start_date) > 6 AND duration_sec <= 1800 GROUP BY start_station_name ORDER BY COUNT(start_station_id) DESC LIMIT 5' > am_start.csv\n",
    "! bq query --use_legacy_sql=false --format=csv 'SELECT COUNT(start_station_id) AS Afternoon_Trips, start_station_name FROM `bigquery-public-data.san_francisco.bikeshare_trips` WHERE EXTRACT(HOUR FROM start_date) < 19 AND EXTRACT(HOUR FROM start_date) > 15 AND duration_sec <= 1800 GROUP BY start_station_name ORDER BY COUNT(start_station_id) DESC LIMIT 5' > pm_start.csv"
   ]
  },
  {
   "cell_type": "code",
   "execution_count": 39,
   "metadata": {},
   "outputs": [
    {
     "name": "stdout",
     "output_type": "stream",
     "text": [
      "Most popular destinations for morning and afternoon commuter trips:\n",
      "Waiting on bqjob_r1c7614b193f817ad_00000163bf0b79ab_1 ... (0s) Current status: DONE   "
     ]
    }
   ],
   "source": [
    "print(\"Most popular destinations for morning and afternoon commuter trips:\")\n",
    "! bq query --use_legacy_sql=false --format=csv 'SELECT COUNT(end_station_id) AS Morning_Trips, end_station_name FROM `bigquery-public-data.san_francisco.bikeshare_trips` WHERE EXTRACT(HOUR FROM start_date) < 9 AND EXTRACT(HOUR FROM start_date) > 6 AND duration_sec <= 1800 GROUP BY end_station_name ORDER BY COUNT(end_station_id) DESC LIMIT 5' > am_end.csv\n",
    "! bq query --use_legacy_sql=false --format=csv 'SELECT COUNT(end_station_id) AS Afternoon_Trips, end_station_name FROM `bigquery-public-data.san_francisco.bikeshare_trips` WHERE EXTRACT(HOUR FROM start_date) < 19 AND EXTRACT(HOUR FROM start_date) > 15 AND duration_sec <= 1800 GROUP BY end_station_name ORDER BY COUNT(end_station_id) DESC LIMIT 5' > pm_end.csv"
   ]
  },
  {
   "cell_type": "code",
   "execution_count": 32,
   "metadata": {},
   "outputs": [
    {
     "name": "stdout",
     "output_type": "stream",
     "text": [
      "Most popular morning and afternoon commuter trips:\n",
      "Waiting on bqjob_r7075e1c177612b5_00000163bf059811_1 ... (1s) Current status: DONE    "
     ]
    }
   ],
   "source": [
    "print(\"Most popular morning and afternoon commuter trips:\")\n",
    "! bq query --use_legacy_sql=false --format=csv 'SELECT CONCAT(start_station_name,\"-\",end_station_name) AS Trip, COUNT(CONCAT(start_station_name,\"-\",end_station_name)) AS Number_Trips FROM `bigquery-public-data.san_francisco.bikeshare_trips` WHERE EXTRACT(HOUR FROM start_date) < 9 AND EXTRACT(HOUR FROM start_date) > 6 AND duration_sec <= 1800 GROUP BY trip ORDER BY COUNT(CONCAT(start_station_name,\"-\",end_station_name)) DESC LIMIT 5' > morning.csv\n",
    "! bq query --use_legacy_sql=false --format=csv 'SELECT CONCAT(start_station_name,\"-\",end_station_name) AS Trip, COUNT(CONCAT(start_station_name,\"-\",end_station_name)) AS Number_Trips FROM `bigquery-public-data.san_francisco.bikeshare_trips` WHERE EXTRACT(HOUR FROM start_date) < 19 AND EXTRACT(HOUR FROM start_date) > 15 AND duration_sec <= 1800 GROUP BY trip ORDER BY COUNT(CONCAT(start_station_name,\"-\",end_station_name)) DESC LIMIT 5' > afternoon.csv"
   ]
  },
  {
   "cell_type": "code",
   "execution_count": 40,
   "metadata": {
    "collapsed": true
   },
   "outputs": [],
   "source": [
    "morning_trips=pd.read_csv('morning.csv')\n",
    "afternoon_trips=pd.read_csv('afternoon.csv')\n",
    "morning_start=pd.read_csv('am_start.csv')\n",
    "afternoon_start=pd.read_csv('pm_start.csv')\n",
    "morning_end=pd.read_csv('am_end.csv')\n",
    "afternoon_end=pd.read_csv('pm_end.csv')"
   ]
  },
  {
   "cell_type": "code",
   "execution_count": 41,
   "metadata": {
    "collapsed": true
   },
   "outputs": [],
   "source": [
    "pd.set_option('display.max_colwidth', -1)"
   ]
  },
  {
   "cell_type": "code",
   "execution_count": 42,
   "metadata": {},
   "outputs": [
    {
     "data": {
      "text/html": [
       "<div>\n",
       "<style>\n",
       "    .dataframe thead tr:only-child th {\n",
       "        text-align: right;\n",
       "    }\n",
       "\n",
       "    .dataframe thead th {\n",
       "        text-align: left;\n",
       "    }\n",
       "\n",
       "    .dataframe tbody tr th {\n",
       "        vertical-align: top;\n",
       "    }\n",
       "</style>\n",
       "<table border=\"1\" class=\"dataframe\">\n",
       "  <thead>\n",
       "    <tr style=\"text-align: right;\">\n",
       "      <th></th>\n",
       "      <th>Trip</th>\n",
       "      <th>Number_Trips</th>\n",
       "    </tr>\n",
       "  </thead>\n",
       "  <tbody>\n",
       "    <tr>\n",
       "      <th>0</th>\n",
       "      <td>Harry Bridges Plaza (Ferry Building)-2nd at Townsend</td>\n",
       "      <td>3680</td>\n",
       "    </tr>\n",
       "    <tr>\n",
       "      <th>1</th>\n",
       "      <td>San Francisco Caltrain (Townsend at 4th)-Embarcadero at Folsom</td>\n",
       "      <td>2613</td>\n",
       "    </tr>\n",
       "    <tr>\n",
       "      <th>2</th>\n",
       "      <td>San Francisco Caltrain (Townsend at 4th)-Harry Bridges Plaza (Ferry Building)</td>\n",
       "      <td>2564</td>\n",
       "    </tr>\n",
       "    <tr>\n",
       "      <th>3</th>\n",
       "      <td>San Francisco Caltrain (Townsend at 4th)-Temporary Transbay Terminal (Howard at Beale)</td>\n",
       "      <td>2353</td>\n",
       "    </tr>\n",
       "    <tr>\n",
       "      <th>4</th>\n",
       "      <td>San Francisco Caltrain (Townsend at 4th)-Steuart at Market</td>\n",
       "      <td>2229</td>\n",
       "    </tr>\n",
       "  </tbody>\n",
       "</table>\n",
       "</div>"
      ],
      "text/plain": [
       "                                                                                     Trip  \\\n",
       "0  Harry Bridges Plaza (Ferry Building)-2nd at Townsend                                     \n",
       "1  San Francisco Caltrain (Townsend at 4th)-Embarcadero at Folsom                           \n",
       "2  San Francisco Caltrain (Townsend at 4th)-Harry Bridges Plaza (Ferry Building)            \n",
       "3  San Francisco Caltrain (Townsend at 4th)-Temporary Transbay Terminal (Howard at Beale)   \n",
       "4  San Francisco Caltrain (Townsend at 4th)-Steuart at Market                               \n",
       "\n",
       "   Number_Trips  \n",
       "0  3680          \n",
       "1  2613          \n",
       "2  2564          \n",
       "3  2353          \n",
       "4  2229          "
      ]
     },
     "execution_count": 42,
     "metadata": {},
     "output_type": "execute_result"
    }
   ],
   "source": [
    "morning_trips"
   ]
  },
  {
   "cell_type": "code",
   "execution_count": 43,
   "metadata": {},
   "outputs": [
    {
     "data": {
      "text/html": [
       "<div>\n",
       "<style>\n",
       "    .dataframe thead tr:only-child th {\n",
       "        text-align: right;\n",
       "    }\n",
       "\n",
       "    .dataframe thead th {\n",
       "        text-align: left;\n",
       "    }\n",
       "\n",
       "    .dataframe tbody tr th {\n",
       "        vertical-align: top;\n",
       "    }\n",
       "</style>\n",
       "<table border=\"1\" class=\"dataframe\">\n",
       "  <thead>\n",
       "    <tr style=\"text-align: right;\">\n",
       "      <th></th>\n",
       "      <th>Trip</th>\n",
       "      <th>Number_Trips</th>\n",
       "    </tr>\n",
       "  </thead>\n",
       "  <tbody>\n",
       "    <tr>\n",
       "      <th>0</th>\n",
       "      <td>2nd at Townsend-Harry Bridges Plaza (Ferry Building)</td>\n",
       "      <td>4296</td>\n",
       "    </tr>\n",
       "    <tr>\n",
       "      <th>1</th>\n",
       "      <td>Embarcadero at Folsom-San Francisco Caltrain (Townsend at 4th)</td>\n",
       "      <td>4055</td>\n",
       "    </tr>\n",
       "    <tr>\n",
       "      <th>2</th>\n",
       "      <td>Embarcadero at Sansome-Steuart at Market</td>\n",
       "      <td>3998</td>\n",
       "    </tr>\n",
       "    <tr>\n",
       "      <th>3</th>\n",
       "      <td>Steuart at Market-San Francisco Caltrain (Townsend at 4th)</td>\n",
       "      <td>3424</td>\n",
       "    </tr>\n",
       "    <tr>\n",
       "      <th>4</th>\n",
       "      <td>Temporary Transbay Terminal (Howard at Beale)-San Francisco Caltrain (Townsend at 4th)</td>\n",
       "      <td>3332</td>\n",
       "    </tr>\n",
       "  </tbody>\n",
       "</table>\n",
       "</div>"
      ],
      "text/plain": [
       "                                                                                     Trip  \\\n",
       "0  2nd at Townsend-Harry Bridges Plaza (Ferry Building)                                     \n",
       "1  Embarcadero at Folsom-San Francisco Caltrain (Townsend at 4th)                           \n",
       "2  Embarcadero at Sansome-Steuart at Market                                                 \n",
       "3  Steuart at Market-San Francisco Caltrain (Townsend at 4th)                               \n",
       "4  Temporary Transbay Terminal (Howard at Beale)-San Francisco Caltrain (Townsend at 4th)   \n",
       "\n",
       "   Number_Trips  \n",
       "0  4296          \n",
       "1  4055          \n",
       "2  3998          \n",
       "3  3424          \n",
       "4  3332          "
      ]
     },
     "execution_count": 43,
     "metadata": {},
     "output_type": "execute_result"
    }
   ],
   "source": [
    "afternoon_trips"
   ]
  },
  {
   "cell_type": "code",
   "execution_count": 44,
   "metadata": {},
   "outputs": [
    {
     "data": {
      "text/html": [
       "<div>\n",
       "<style>\n",
       "    .dataframe thead tr:only-child th {\n",
       "        text-align: right;\n",
       "    }\n",
       "\n",
       "    .dataframe thead th {\n",
       "        text-align: left;\n",
       "    }\n",
       "\n",
       "    .dataframe tbody tr th {\n",
       "        vertical-align: top;\n",
       "    }\n",
       "</style>\n",
       "<table border=\"1\" class=\"dataframe\">\n",
       "  <thead>\n",
       "    <tr style=\"text-align: right;\">\n",
       "      <th></th>\n",
       "      <th>Morning_Trips</th>\n",
       "      <th>start_station_name</th>\n",
       "    </tr>\n",
       "  </thead>\n",
       "  <tbody>\n",
       "    <tr>\n",
       "      <th>0</th>\n",
       "      <td>30303</td>\n",
       "      <td>San Francisco Caltrain (Townsend at 4th)</td>\n",
       "    </tr>\n",
       "    <tr>\n",
       "      <th>1</th>\n",
       "      <td>21183</td>\n",
       "      <td>San Francisco Caltrain 2 (330 Townsend)</td>\n",
       "    </tr>\n",
       "    <tr>\n",
       "      <th>2</th>\n",
       "      <td>15818</td>\n",
       "      <td>Harry Bridges Plaza (Ferry Building)</td>\n",
       "    </tr>\n",
       "    <tr>\n",
       "      <th>3</th>\n",
       "      <td>14193</td>\n",
       "      <td>Temporary Transbay Terminal (Howard at Beale)</td>\n",
       "    </tr>\n",
       "    <tr>\n",
       "      <th>4</th>\n",
       "      <td>9762</td>\n",
       "      <td>Steuart at Market</td>\n",
       "    </tr>\n",
       "  </tbody>\n",
       "</table>\n",
       "</div>"
      ],
      "text/plain": [
       "   Morning_Trips                             start_station_name\n",
       "0  30303          San Francisco Caltrain (Townsend at 4th)     \n",
       "1  21183          San Francisco Caltrain 2 (330 Townsend)      \n",
       "2  15818          Harry Bridges Plaza (Ferry Building)         \n",
       "3  14193          Temporary Transbay Terminal (Howard at Beale)\n",
       "4  9762           Steuart at Market                            "
      ]
     },
     "execution_count": 44,
     "metadata": {},
     "output_type": "execute_result"
    }
   ],
   "source": [
    "morning_start"
   ]
  },
  {
   "cell_type": "code",
   "execution_count": 45,
   "metadata": {},
   "outputs": [
    {
     "data": {
      "text/html": [
       "<div>\n",
       "<style>\n",
       "    .dataframe thead tr:only-child th {\n",
       "        text-align: right;\n",
       "    }\n",
       "\n",
       "    .dataframe thead th {\n",
       "        text-align: left;\n",
       "    }\n",
       "\n",
       "    .dataframe tbody tr th {\n",
       "        vertical-align: top;\n",
       "    }\n",
       "</style>\n",
       "<table border=\"1\" class=\"dataframe\">\n",
       "  <thead>\n",
       "    <tr style=\"text-align: right;\">\n",
       "      <th></th>\n",
       "      <th>Afternoon_Trips</th>\n",
       "      <th>start_station_name</th>\n",
       "    </tr>\n",
       "  </thead>\n",
       "  <tbody>\n",
       "    <tr>\n",
       "      <th>0</th>\n",
       "      <td>14499</td>\n",
       "      <td>Townsend at 7th</td>\n",
       "    </tr>\n",
       "    <tr>\n",
       "      <th>1</th>\n",
       "      <td>14171</td>\n",
       "      <td>2nd at Townsend</td>\n",
       "    </tr>\n",
       "    <tr>\n",
       "      <th>2</th>\n",
       "      <td>14032</td>\n",
       "      <td>San Francisco Caltrain (Townsend at 4th)</td>\n",
       "    </tr>\n",
       "    <tr>\n",
       "      <th>3</th>\n",
       "      <td>13874</td>\n",
       "      <td>Embarcadero at Sansome</td>\n",
       "    </tr>\n",
       "    <tr>\n",
       "      <th>4</th>\n",
       "      <td>11386</td>\n",
       "      <td>Market at Sansome</td>\n",
       "    </tr>\n",
       "  </tbody>\n",
       "</table>\n",
       "</div>"
      ],
      "text/plain": [
       "   Afternoon_Trips                        start_station_name\n",
       "0  14499            Townsend at 7th                         \n",
       "1  14171            2nd at Townsend                         \n",
       "2  14032            San Francisco Caltrain (Townsend at 4th)\n",
       "3  13874            Embarcadero at Sansome                  \n",
       "4  11386            Market at Sansome                       "
      ]
     },
     "execution_count": 45,
     "metadata": {},
     "output_type": "execute_result"
    }
   ],
   "source": [
    "afternoon_start"
   ]
  },
  {
   "cell_type": "code",
   "execution_count": 46,
   "metadata": {},
   "outputs": [
    {
     "data": {
      "text/html": [
       "<div>\n",
       "<style>\n",
       "    .dataframe thead tr:only-child th {\n",
       "        text-align: right;\n",
       "    }\n",
       "\n",
       "    .dataframe thead th {\n",
       "        text-align: left;\n",
       "    }\n",
       "\n",
       "    .dataframe tbody tr th {\n",
       "        vertical-align: top;\n",
       "    }\n",
       "</style>\n",
       "<table border=\"1\" class=\"dataframe\">\n",
       "  <thead>\n",
       "    <tr style=\"text-align: right;\">\n",
       "      <th></th>\n",
       "      <th>Morning_Trips</th>\n",
       "      <th>end_station_name</th>\n",
       "    </tr>\n",
       "  </thead>\n",
       "  <tbody>\n",
       "    <tr>\n",
       "      <th>0</th>\n",
       "      <td>16663</td>\n",
       "      <td>San Francisco Caltrain (Townsend at 4th)</td>\n",
       "    </tr>\n",
       "    <tr>\n",
       "      <th>1</th>\n",
       "      <td>11321</td>\n",
       "      <td>Townsend at 7th</td>\n",
       "    </tr>\n",
       "    <tr>\n",
       "      <th>2</th>\n",
       "      <td>11251</td>\n",
       "      <td>2nd at Townsend</td>\n",
       "    </tr>\n",
       "    <tr>\n",
       "      <th>3</th>\n",
       "      <td>8927</td>\n",
       "      <td>Market at Sansome</td>\n",
       "    </tr>\n",
       "    <tr>\n",
       "      <th>4</th>\n",
       "      <td>8763</td>\n",
       "      <td>Embarcadero at Sansome</td>\n",
       "    </tr>\n",
       "  </tbody>\n",
       "</table>\n",
       "</div>"
      ],
      "text/plain": [
       "   Morning_Trips                          end_station_name\n",
       "0  16663          San Francisco Caltrain (Townsend at 4th)\n",
       "1  11321          Townsend at 7th                         \n",
       "2  11251          2nd at Townsend                         \n",
       "3  8927           Market at Sansome                       \n",
       "4  8763           Embarcadero at Sansome                  "
      ]
     },
     "execution_count": 46,
     "metadata": {},
     "output_type": "execute_result"
    }
   ],
   "source": [
    "morning_end"
   ]
  },
  {
   "cell_type": "code",
   "execution_count": 47,
   "metadata": {},
   "outputs": [
    {
     "data": {
      "text/html": [
       "<div>\n",
       "<style>\n",
       "    .dataframe thead tr:only-child th {\n",
       "        text-align: right;\n",
       "    }\n",
       "\n",
       "    .dataframe thead th {\n",
       "        text-align: left;\n",
       "    }\n",
       "\n",
       "    .dataframe tbody tr th {\n",
       "        vertical-align: top;\n",
       "    }\n",
       "</style>\n",
       "<table border=\"1\" class=\"dataframe\">\n",
       "  <thead>\n",
       "    <tr style=\"text-align: right;\">\n",
       "      <th></th>\n",
       "      <th>Afternoon_Trips</th>\n",
       "      <th>end_station_name</th>\n",
       "    </tr>\n",
       "  </thead>\n",
       "  <tbody>\n",
       "    <tr>\n",
       "      <th>0</th>\n",
       "      <td>45704</td>\n",
       "      <td>San Francisco Caltrain (Townsend at 4th)</td>\n",
       "    </tr>\n",
       "    <tr>\n",
       "      <th>1</th>\n",
       "      <td>31626</td>\n",
       "      <td>San Francisco Caltrain 2 (330 Townsend)</td>\n",
       "    </tr>\n",
       "    <tr>\n",
       "      <th>2</th>\n",
       "      <td>19016</td>\n",
       "      <td>Harry Bridges Plaza (Ferry Building)</td>\n",
       "    </tr>\n",
       "    <tr>\n",
       "      <th>3</th>\n",
       "      <td>15482</td>\n",
       "      <td>Steuart at Market</td>\n",
       "    </tr>\n",
       "    <tr>\n",
       "      <th>4</th>\n",
       "      <td>15006</td>\n",
       "      <td>Temporary Transbay Terminal (Howard at Beale)</td>\n",
       "    </tr>\n",
       "  </tbody>\n",
       "</table>\n",
       "</div>"
      ],
      "text/plain": [
       "   Afternoon_Trips                               end_station_name\n",
       "0  45704            San Francisco Caltrain (Townsend at 4th)     \n",
       "1  31626            San Francisco Caltrain 2 (330 Townsend)      \n",
       "2  19016            Harry Bridges Plaza (Ferry Building)         \n",
       "3  15482            Steuart at Market                            \n",
       "4  15006            Temporary Transbay Terminal (Howard at Beale)"
      ]
     },
     "execution_count": 47,
     "metadata": {},
     "output_type": "execute_result"
    }
   ],
   "source": [
    "afternoon_end"
   ]
  },
  {
   "cell_type": "markdown",
   "metadata": {},
   "source": [
    "Per the assignment 4 instructions, I have refined my definitions of morning and afternoon trips to encompass 7:00 – 9:00 and 16:00 – 19:00, respectively.\n",
    "\n",
    "The overall quantity of morning trips, represented by those with start times between 7:00 and 8:59, was 199,995. The overall quantity of afternoon trips, represented by those start times between 16:00 and 18:59, was 299,626.\n",
    "\n",
    "I refined this further by checking the quantity of trips in each of these categories with durations of under 30 minutes. 197,646 of the 199,995 morning trips and 289,743 of the 299,626 afternoon trips fell into this category. This demonstrated that the overwhelming majority of trips within the hours selected could be considered commuter trips.\n",
    "\n",
    "Next, I examined the breakdown of customer types for morning and afternoon trips. Subscribers accounted for 192,117 of the 199,995 morning trips and 266,764 of the 299,626 afternoon trips. It is clear that subscribers making commuter trips represented a large portion of the customer base in this dataset for trips made within commuting hours. The company running Bay Area Bikeshare would do well to reinforce and reward this behavior.\n",
    "\n",
    "I also studied the top five starting and ending points for morning and afternoon commuter trips. This analysis gave more actionable results. The frequencies of the most common start and end points ranged from 8,763 to 45,704, representing a much more substantial portion of the overall trip totals. The top five starting and ending points for morning and afternoon commuter trips is displayed in the morning_start, morning_end, afternoon_start, and afternoon_end tables above. The morning starting points and afternoon ending points are most telling. The top five locations in these two sets match.\n",
    "\n",
    "As a result of this analysis, my recommendations to the company running Bay Area Bikeshare would be to offer discounted rates for new subscribers who begin morning trips or end afternoon trips of up to 30 minutes in duration at any of the top five locations described above: San Francisco Caltrain (Townsend at 4th), San Francisco Caltrain 2 (330 Townsend), Harry Bridges Plaza (Ferry Building), Temporary Transbay Terminal (Howard at Beale), or Steuart at Market. The data do not give any indication of bike availability at these locations during peak times. I would recommend the company make certain to have sufficient stock at these locations during commuting hours, and plan to expand inventory to meet the new demand that will accompany the discounted rates."
   ]
  },
  {
   "cell_type": "code",
   "execution_count": null,
   "metadata": {
    "collapsed": true
   },
   "outputs": [],
   "source": []
  }
 ],
 "metadata": {
  "kernelspec": {
   "display_name": "Python 3",
   "language": "python",
   "name": "python3"
  },
  "language_info": {
   "codemirror_mode": {
    "name": "ipython",
    "version": 3
   },
   "file_extension": ".py",
   "mimetype": "text/x-python",
   "name": "python",
   "nbconvert_exporter": "python",
   "pygments_lexer": "ipython3",
   "version": "3.6.3"
  }
 },
 "nbformat": 4,
 "nbformat_minor": 2
}
